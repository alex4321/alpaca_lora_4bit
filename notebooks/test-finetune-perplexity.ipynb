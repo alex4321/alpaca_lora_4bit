{
 "cells": [
  {
   "cell_type": "markdown",
   "metadata": {},
   "source": [
    "# Task"
   ]
  },
  {
   "cell_type": "markdown",
   "metadata": {},
   "source": [
    "I made this notebook to investigate issues with high model perplexity while reducting loss"
   ]
  },
  {
   "cell_type": "markdown",
   "metadata": {},
   "source": [
    "I use this model: https://huggingface.co/TheBloke/vicuna-13B-1.1-GPTQ-4bit-128g/tree/main"
   ]
  },
  {
   "cell_type": "markdown",
   "metadata": {},
   "source": [
    "## Implementation"
   ]
  },
  {
   "cell_type": "code",
   "execution_count": 1,
   "metadata": {},
   "outputs": [],
   "source": [
    "import torch\n",
    "import numpy as np"
   ]
  },
  {
   "cell_type": "code",
   "execution_count": 2,
   "metadata": {},
   "outputs": [
    {
     "name": "stderr",
     "output_type": "stream",
     "text": [
      "c:\\Users\\alex4321\\anaconda3\\envs\\llama\\Lib\\site-packages\\tqdm\\auto.py:21: TqdmWarning: IProgress not found. Please update jupyter and ipywidgets. See https://ipywidgets.readthedocs.io/en/stable/user_install.html\n",
      "  from .autonotebook import tqdm as notebook_tqdm\n"
     ]
    },
    {
     "name": "stdout",
     "output_type": "stream",
     "text": [
      "Triton not found. Please run \"pip install triton\".\n"
     ]
    }
   ],
   "source": [
    "from alpaca_lora_4bit.monkeypatch.peft_tuners_lora_monkey_patch import replace_peft_model_with_int4_lora_model\n",
    "replace_peft_model_with_int4_lora_model()"
   ]
  },
  {
   "cell_type": "code",
   "execution_count": 3,
   "metadata": {},
   "outputs": [
    {
     "name": "stdout",
     "output_type": "stream",
     "text": [
      "Using CUDA implementation.\n"
     ]
    }
   ],
   "source": [
    "from alpaca_lora_4bit import autograd_4bit\n",
    "autograd_4bit.switch_backend_to('cuda')"
   ]
  },
  {
   "cell_type": "code",
   "execution_count": 4,
   "metadata": {},
   "outputs": [],
   "source": [
    "from alpaca_lora_4bit.autograd_4bit import load_llama_model_4bit_low_ram\n",
    "from peft import LoraConfig, get_peft_model, get_peft_model_state_dict, PeftModel, set_peft_model_state_dict"
   ]
  },
  {
   "cell_type": "code",
   "execution_count": 5,
   "metadata": {},
   "outputs": [
    {
     "name": "stdout",
     "output_type": "stream",
     "text": [
      "Loading Model ...\n"
     ]
    },
    {
     "name": "stderr",
     "output_type": "stream",
     "text": [
      "The safetensors archive passed at vicuna-13b-GPTQ-4bit-128g/vicuna-13b-4bit-128g.safetensors does not contain metadata. Make sure to save your model with the `save_pretrained` method. Defaulting to 'pt' metadata.\n"
     ]
    },
    {
     "name": "stdout",
     "output_type": "stream",
     "text": [
      "Loaded the model in 6.80 seconds.\n"
     ]
    }
   ],
   "source": [
    "model, tokenizer = load_llama_model_4bit_low_ram(\"vicuna-13b-GPTQ-4bit-128g\",\n",
    "                                                 \"vicuna-13b-GPTQ-4bit-128g/vicuna-13b-4bit-128g.safetensors\",\n",
    "                                                 groupsize=128,\n",
    "                                                 is_v1_model=False)"
   ]
  },
  {
   "cell_type": "code",
   "execution_count": 6,
   "metadata": {},
   "outputs": [],
   "source": [
    "TEXTS = [\"\"\"\n",
    "The vicuña (Lama vicugna) or vicuna[3] (both /vɪˈkuːnjə/, very rarely spelled vicugna, its former genus name) is one of the two wild South American camelids, which live in the high alpine areas of the Andes, the other being the guanaco, which lives at lower elevations.\n",
    "Vicuñas are relatives of the llama, and are now believed to be the wild ancestor of domesticated alpacas, which are raised for their coats.\n",
    "Vicuñas produce small amounts of extremely fine wool, which is very expensive because the animal can only be shorn every three years and has to be caught from the wild.\n",
    "When knitted together, the product of the vicuña's wool is very soft and warm.\n",
    "The Inca valued vicuñas highly for their wool, and it was against the law for anyone but royalty to wear vicuña garments;\n",
    "today, the vicuña is the national animal of Peru and appears on the Peruvian coat of arms.\n",
    "\n",
    "Both under the rule of the Inca and today, vicuñas have been protected by law, but they were heavily hunted in the intervening period.\n",
    "At the time they were declared endangered in 1974, only about 6,000 animals were left.\n",
    "Today, the vicuña population has recovered to about 350,000, and although conservation organizations have reduced its level of threat classification, they still call for active conservation programs to protect populations from poaching, habitat loss, and other threats.\n",
    "\n",
    "Previously the vicuña was thought not to have been domesticated, and the llama and the alpaca were both regarded as descendants of the closely related guanaco.\n",
    "But DNA research published in 2001 has shown the alpaca may well have vicuña parentage.\n",
    "Today, the vicuña is mainly wild, but the local people still perform special rituals with these creatures, including a fertility rite.\n",
    "\"\"\".strip(),\n",
    "\"\"\"\n",
    "The llama (/ˈlɑːmə/; Spanish pronunciation: [ˈʎama]) (Lama glama) is a domesticated South American camelid, widely used as a meat and pack animal by Andean cultures since the Pre-Columbian era.\n",
    "\n",
    "Llamas are social animals and live with others as a herd.\n",
    "Their wool is soft and contains only a small amount of lanolin.\n",
    "Llamas can learn simple tasks after a few repetitions.\n",
    "When using a pack, they can carry about 25 to 30% of their body weight for 8 to 13 km (5–8 miles).\n",
    "The name llama (in the past also spelled \"lama\" or \"glama\") was adopted by European settlers from native Peruvians.\n",
    "\n",
    "The ancestors of llamas are thought to have originated from the Great Plains of North America about 40 million years ago, and subsequently migrated to South America about three million years ago during the Great American Interchange.\n",
    "By the end of the last ice age (10,000–12,000 years ago), camelids were extinct in North America.\n",
    "As of 2007, there were over seven million llamas and alpacas in South America and over 158,000 llamas and 100,000 alpacas, descended from progenitors imported late in the 20th century, in the United States and Canada.[5]\n",
    "\n",
    "In Aymara mythology, llamas are important beings.\n",
    "The Heavenly Llama is said to drink water from the ocean and urinates as it rains.\n",
    "According to Aymara eschatology, llamas will return to the water springs and lagoons where they come from at the end of time.\n",
    "\"\"\".strip(),\n",
    "\"\"\"\n",
    "The alpaca (Lama pacos) is a species of South American camelid mammal.\n",
    "It is similar to, and often confused with, the llama. However, alpacas are often noticeably smaller than llamas.\n",
    "The two animals are closely related and can successfully crossbreed.\n",
    "Both species are believed to have been domesticated from their wild relatives, the vicuña and guanaco.\n",
    "There are two breeds of alpaca: the Suri alpaca and the Huacaya alpaca.\n",
    "\n",
    "Alpacas are kept in herds that graze on the level heights of the Andes of Southern Peru, Western Bolivia, Ecuador, and Northern Chile at an altitude of 3,500 to 5,000 metres (11,000 to 16,000 feet) above sea level.\n",
    "Alpacas are considerably smaller than llamas, and unlike llamas, they were not bred to be working animals, but were bred specifically for their fiber.\n",
    "Alpaca fiber is used for making knitted and woven items, similar to sheep's wool.\n",
    "These items include blankets, sweaters, hats, gloves, scarves, a wide variety of textiles, and ponchos, in South America, as well as sweaters, socks, coats, and bedding in other parts of the world.\n",
    "The fiber comes in more than 52 natural colors as classified in Peru, 12 as classified in Australia, and 16 as classified in the United States.\n",
    "\n",
    "Alpacas communicate through body language.\n",
    "The most common is spitting to show dominance when they are in distress, fearful, or feel agitated.\n",
    "Male alpacas are more aggressive than females, and tend to establish dominance within their herd group.\n",
    "In some cases, alpha males will immobilize the head and neck of a weaker or challenging male in order to show their strength and dominance.\n",
    "\n",
    "In the textile industry, \"alpaca\" primarily refers to the hair of Peruvian alpacas, but more broadly it refers to a style of fabric originally made from alpaca hair, such as mohair, Icelandic sheep wool, or even high-quality wool from other breeds of sheep.\n",
    "In trade, distinctions are made between alpacas and the several styles of mohair and luster.\n",
    "\n",
    "An adult alpaca generally is between 81 and 99 centimetres (32 and 39 inches) in height at the shoulders (withers).\n",
    "They usually weigh between 48 and 90 kilograms (106 and 198 pounds).\n",
    "Raised in the same conditions, the difference in weight can be small with males weighting around 22.3 kilograms (49 lb 3 oz) and females 21.3 kilograms (46 lb 15 oz).\n",
    "\"\"\".strip()\n",
    "]"
   ]
  },
  {
   "cell_type": "code",
   "execution_count": 7,
   "metadata": {},
   "outputs": [],
   "source": [
    "def model_perplexity(model, input_ids):\n",
    "    input_ids_torch = torch.LongTensor([input_ids]).to(model.device)\n",
    "    model.eval()\n",
    "    with torch.no_grad():\n",
    "        logits_sentence = model(input_ids_torch).logits[0]\n",
    "        log_softmax_sentence = torch.nn.functional.log_softmax(logits_sentence, dim=-1)\n",
    "    log_softmax_sentence_np = log_softmax_sentence.detach().cpu().numpy()\n",
    "    next_tokens = input_ids[1:]\n",
    "    log_softmax_correct_tokens = np.array([\n",
    "        log_softmax_sentence_np[i, token]\n",
    "        for i, token in enumerate(next_tokens)\n",
    "    ])\n",
    "    return np.exp(-log_softmax_correct_tokens.mean())"
   ]
  },
  {
   "cell_type": "code",
   "execution_count": 8,
   "metadata": {},
   "outputs": [
    {
     "data": {
      "text/plain": [
       "[6.494379, 5.0919175, 4.490609]"
      ]
     },
     "execution_count": 8,
     "metadata": {},
     "output_type": "execute_result"
    }
   ],
   "source": [
    "perplexities_original = [\n",
    "    model_perplexity(model,\n",
    "                     tokenizer(text)['input_ids'])\n",
    "    for text in TEXTS\n",
    "]\n",
    "perplexities_original"
   ]
  },
  {
   "cell_type": "code",
   "execution_count": 9,
   "metadata": {},
   "outputs": [],
   "source": [
    "lora_config = LoraConfig(\n",
    "    r=8,\n",
    "    lora_alpha=16,\n",
    "    target_modules=[\"q_proj\", \"v_proj\"],\n",
    "    lora_dropout=0.05,\n",
    "    bias=\"none\",\n",
    "    task_type=\"CAUSAL_LM\",\n",
    ")\n",
    "lora_model = get_peft_model(model, lora_config)"
   ]
  },
  {
   "cell_type": "code",
   "execution_count": 10,
   "metadata": {},
   "outputs": [],
   "source": [
    "for module in lora_model.modules():\n",
    "    if 'Autograd4bitQuantLinear' in str(type(module)) or 'Linear4bitLt' in str(type(module)):\n",
    "        if hasattr(module, \"is_v1_model\") and module.is_v1_model:\n",
    "            module.zeros = module.zeros.half()\n",
    "        module.scales = module.scales.half()"
   ]
  },
  {
   "cell_type": "code",
   "execution_count": 11,
   "metadata": {},
   "outputs": [],
   "source": [
    "tokenizer.pad_token_id = 0"
   ]
  },
  {
   "cell_type": "code",
   "execution_count": 12,
   "metadata": {},
   "outputs": [
    {
     "name": "stdout",
     "output_type": "stream",
     "text": [
      "Forward Patch Applied For Block 0\n",
      "Forward Patch Applied For Block 1\n",
      "Forward Patch Applied For Block 2\n",
      "Forward Patch Applied For Block 3\n",
      "Forward Patch Applied For Block 4\n",
      "Forward Patch Applied For Block 5\n",
      "Forward Patch Applied For Block 6\n",
      "Forward Patch Applied For Block 7\n",
      "Forward Patch Applied For Block 8\n",
      "Forward Patch Applied For Block 9\n",
      "Forward Patch Applied For Block 10\n",
      "Forward Patch Applied For Block 11\n",
      "Forward Patch Applied For Block 12\n",
      "Forward Patch Applied For Block 13\n",
      "Forward Patch Applied For Block 14\n",
      "Forward Patch Applied For Block 15\n",
      "Forward Patch Applied For Block 16\n",
      "Forward Patch Applied For Block 17\n",
      "Forward Patch Applied For Block 18\n",
      "Forward Patch Applied For Block 19\n",
      "Forward Patch Applied For Block 20\n",
      "Forward Patch Applied For Block 21\n",
      "Forward Patch Applied For Block 22\n",
      "Forward Patch Applied For Block 23\n",
      "Forward Patch Applied For Block 24\n",
      "Forward Patch Applied For Block 25\n",
      "Forward Patch Applied For Block 26\n",
      "Forward Patch Applied For Block 27\n",
      "Forward Patch Applied For Block 28\n",
      "Forward Patch Applied For Block 29\n",
      "Forward Patch Applied For Block 30\n",
      "Forward Patch Applied For Block 31\n",
      "Forward Patch Applied For Block 32\n",
      "Forward Patch Applied For Block 33\n",
      "Forward Patch Applied For Block 34\n",
      "Forward Patch Applied For Block 35\n",
      "Forward Patch Applied For Block 36\n",
      "Forward Patch Applied For Block 37\n",
      "Forward Patch Applied For Block 38\n",
      "Forward Patch Applied For Block 39\n",
      "Var Wrapper Patch Applied\n"
     ]
    }
   ],
   "source": [
    "from alpaca_lora_4bit.gradient_checkpointing import apply_gradient_checkpointing\n",
    "apply_gradient_checkpointing(lora_model, checkpoint_ratio=1.0);"
   ]
  },
  {
   "cell_type": "code",
   "execution_count": 13,
   "metadata": {},
   "outputs": [],
   "source": [
    "from torch.utils.data import Dataset\n",
    "\n",
    "\n",
    "class ExperimentDataset:\n",
    "    def __init__(self, encoded_input_ids) -> None:\n",
    "        self.input_ids = [\n",
    "            item[:-1]\n",
    "            for item in encoded_input_ids\n",
    "        ]\n",
    "        self.labels = [\n",
    "            item[1:]\n",
    "            for item in encoded_input_ids\n",
    "        ]\n",
    "    \n",
    "    def __len__(self):\n",
    "        return len(self.input_ids)\n",
    "\n",
    "    def __getitem__(self, index):\n",
    "        return {\n",
    "            \"input_ids\": torch.LongTensor(self.input_ids[index]),\n",
    "            \"labels\": torch.LongTensor(self.labels[index]),\n",
    "        }"
   ]
  },
  {
   "cell_type": "code",
   "execution_count": 14,
   "metadata": {},
   "outputs": [
    {
     "data": {
      "text/plain": [
       "3"
      ]
     },
     "execution_count": 14,
     "metadata": {},
     "output_type": "execute_result"
    }
   ],
   "source": [
    "dataset = ExperimentDataset(encoded_input_ids=[\n",
    "    tokenizer(text)['input_ids']\n",
    "    for text in TEXTS\n",
    "])\n",
    "len(dataset)"
   ]
  },
  {
   "cell_type": "code",
   "execution_count": 16,
   "metadata": {},
   "outputs": [
    {
     "data": {
      "text/plain": [
       "[6.494379, 5.0919175, 4.490609]"
      ]
     },
     "execution_count": 16,
     "metadata": {},
     "output_type": "execute_result"
    }
   ],
   "source": [
    "perplexities_nontuned_lora = [\n",
    "    model_perplexity(lora_model,\n",
    "                     tokenizer(text)['input_ids'])\n",
    "    for text in TEXTS\n",
    "]\n",
    "perplexities_nontuned_lora"
   ]
  },
  {
   "cell_type": "code",
   "execution_count": 17,
   "metadata": {},
   "outputs": [],
   "source": [
    "from transformers import TrainingArguments, Trainer\n",
    "\n",
    "training_arguments = TrainingArguments(\n",
    "    per_device_train_batch_size=1,\n",
    "    per_device_eval_batch_size=1,\n",
    "    gradient_accumulation_steps=1,\n",
    "    warmup_steps=10,\n",
    "    optim=\"adamw_torch\",\n",
    "    num_train_epochs=10,\n",
    "    learning_rate=2e-4,\n",
    "    fp16=True,\n",
    "    logging_steps=1,\n",
    "    evaluation_strategy=\"epoch\",\n",
    "    save_strategy=\"no\",\n",
    "    output_dir=\"test-finetune-loss-perplexity\",\n",
    "    report_to=\"none\",\n",
    ")\n",
    "\n",
    "trainer = Trainer(\n",
    "    model=model,\n",
    "    train_dataset=dataset,\n",
    "    eval_dataset=dataset,\n",
    "    args=training_arguments,\n",
    ")\n",
    "model.config.use_cache = False"
   ]
  },
  {
   "cell_type": "code",
   "execution_count": 18,
   "metadata": {},
   "outputs": [
    {
     "name": "stderr",
     "output_type": "stream",
     "text": [
      "100%|██████████| 3/3 [00:02<00:00,  1.17it/s]\n"
     ]
    },
    {
     "data": {
      "text/plain": [
       "{'eval_loss': 13.802539825439453,\n",
       " 'eval_runtime': 2.9367,\n",
       " 'eval_samples_per_second': 1.022,\n",
       " 'eval_steps_per_second': 1.022}"
      ]
     },
     "execution_count": 18,
     "metadata": {},
     "output_type": "execute_result"
    }
   ],
   "source": [
    "trainer.evaluate()"
   ]
  },
  {
   "cell_type": "code",
   "execution_count": 19,
   "metadata": {},
   "outputs": [
    {
     "name": "stderr",
     "output_type": "stream",
     "text": [
      "                                              \r"
     ]
    },
    {
     "name": "stdout",
     "output_type": "stream",
     "text": [
      "{'loss': 14.1635, 'learning_rate': 2e-05, 'epoch': 0.33}\n"
     ]
    },
    {
     "name": "stderr",
     "output_type": "stream",
     "text": [
      "                                              \r"
     ]
    },
    {
     "name": "stdout",
     "output_type": "stream",
     "text": [
      "{'loss': 13.9738, 'learning_rate': 4e-05, 'epoch': 0.67}\n"
     ]
    },
    {
     "name": "stderr",
     "output_type": "stream",
     "text": [
      "                                              \r"
     ]
    },
    {
     "name": "stdout",
     "output_type": "stream",
     "text": [
      "{'loss': 13.2638, 'learning_rate': 6e-05, 'epoch': 1.0}\n"
     ]
    },
    {
     "name": "stderr",
     "output_type": "stream",
     "text": [
      " 10%|█         | 3/30 [00:12<01:47,  3.98s/it]\n",
      "  0%|          | 0/3 [00:00<?, ?it/s]\n",
      " 67%|██████▋   | 2/3 [00:00<00:00,  2.83it/s]\n",
      "                                              \n",
      "                                             \r"
     ]
    },
    {
     "name": "stdout",
     "output_type": "stream",
     "text": [
      "{'eval_loss': 13.769198417663574, 'eval_runtime': 3.558, 'eval_samples_per_second': 0.843, 'eval_steps_per_second': 0.843, 'epoch': 1.0}\n"
     ]
    },
    {
     "name": "stderr",
     "output_type": "stream",
     "text": [
      " 10%|█         | 3/30 [00:15<01:47,  3.98s/it]\n",
      "100%|██████████| 3/3 [00:03<00:00,  2.01it/s]\n",
      "                                              \r"
     ]
    },
    {
     "name": "stdout",
     "output_type": "stream",
     "text": [
      "{'loss': 13.2391, 'learning_rate': 8e-05, 'epoch': 1.33}\n"
     ]
    },
    {
     "name": "stderr",
     "output_type": "stream",
     "text": [
      "                                              \r"
     ]
    },
    {
     "name": "stdout",
     "output_type": "stream",
     "text": [
      "{'loss': 14.081, 'learning_rate': 0.0001, 'epoch': 1.67}\n"
     ]
    },
    {
     "name": "stderr",
     "output_type": "stream",
     "text": [
      "                                              \r"
     ]
    },
    {
     "name": "stdout",
     "output_type": "stream",
     "text": [
      "{'loss': 13.8237, 'learning_rate': 0.00012, 'epoch': 2.0}\n"
     ]
    },
    {
     "name": "stderr",
     "output_type": "stream",
     "text": [
      " 20%|██        | 6/30 [00:29<02:14,  5.58s/it]\n",
      "  0%|          | 0/3 [00:00<?, ?it/s]\n",
      " 67%|██████▋   | 2/3 [00:00<00:00,  2.58it/s]\n",
      "                                              \n",
      "                                             \r"
     ]
    },
    {
     "name": "stdout",
     "output_type": "stream",
     "text": [
      "{'eval_loss': 13.514114379882812, 'eval_runtime': 3.733, 'eval_samples_per_second': 0.804, 'eval_steps_per_second': 0.804, 'epoch': 2.0}\n"
     ]
    },
    {
     "name": "stderr",
     "output_type": "stream",
     "text": [
      " 20%|██        | 6/30 [00:33<02:14,  5.58s/it]\n",
      "100%|██████████| 3/3 [00:03<00:00,  1.81it/s]\n",
      "                                              \r"
     ]
    },
    {
     "name": "stdout",
     "output_type": "stream",
     "text": [
      "{'loss': 13.7035, 'learning_rate': 0.00014, 'epoch': 2.33}\n"
     ]
    },
    {
     "name": "stderr",
     "output_type": "stream",
     "text": [
      "                                              \r"
     ]
    },
    {
     "name": "stdout",
     "output_type": "stream",
     "text": [
      "{'loss': 12.8097, 'learning_rate': 0.00016, 'epoch': 2.67}\n"
     ]
    },
    {
     "name": "stderr",
     "output_type": "stream",
     "text": [
      "                                              \r"
     ]
    },
    {
     "name": "stdout",
     "output_type": "stream",
     "text": [
      "{'loss': 13.4416, 'learning_rate': 0.00018, 'epoch': 3.0}\n"
     ]
    },
    {
     "name": "stderr",
     "output_type": "stream",
     "text": [
      " 30%|███       | 9/30 [00:46<01:43,  4.92s/it]\n",
      "  0%|          | 0/3 [00:00<?, ?it/s]\n",
      " 67%|██████▋   | 2/3 [00:00<00:00,  2.58it/s]\n",
      "                                              \n",
      "                                             \r"
     ]
    },
    {
     "name": "stdout",
     "output_type": "stream",
     "text": [
      "{'eval_loss': 12.753833770751953, 'eval_runtime': 3.713, 'eval_samples_per_second': 0.808, 'eval_steps_per_second': 0.808, 'epoch': 3.0}\n"
     ]
    },
    {
     "name": "stderr",
     "output_type": "stream",
     "text": [
      " 30%|███       | 9/30 [00:50<01:43,  4.92s/it]\n",
      "100%|██████████| 3/3 [00:03<00:00,  1.82it/s]\n",
      "                                               \r"
     ]
    },
    {
     "name": "stdout",
     "output_type": "stream",
     "text": [
      "{'loss': 12.2504, 'learning_rate': 0.0002, 'epoch': 3.33}\n"
     ]
    },
    {
     "name": "stderr",
     "output_type": "stream",
     "text": [
      "                                               \r"
     ]
    },
    {
     "name": "stdout",
     "output_type": "stream",
     "text": [
      "{'loss': 12.4893, 'learning_rate': 0.00019, 'epoch': 3.67}\n"
     ]
    },
    {
     "name": "stderr",
     "output_type": "stream",
     "text": [
      "                                               \r"
     ]
    },
    {
     "name": "stdout",
     "output_type": "stream",
     "text": [
      "{'loss': 12.0147, 'learning_rate': 0.00018, 'epoch': 4.0}\n"
     ]
    },
    {
     "name": "stderr",
     "output_type": "stream",
     "text": [
      " 40%|████      | 12/30 [01:03<01:32,  5.14s/it]\n",
      "  0%|          | 0/3 [00:00<?, ?it/s]\n",
      " 67%|██████▋   | 2/3 [00:00<00:00,  2.60it/s]\n",
      "                                               \n",
      "                                             \r"
     ]
    },
    {
     "name": "stdout",
     "output_type": "stream",
     "text": [
      "{'eval_loss': 11.133675575256348, 'eval_runtime': 3.73, 'eval_samples_per_second': 0.804, 'eval_steps_per_second': 0.804, 'epoch': 4.0}\n"
     ]
    },
    {
     "name": "stderr",
     "output_type": "stream",
     "text": [
      " 40%|████      | 12/30 [01:07<01:32,  5.14s/it]\n",
      "100%|██████████| 3/3 [00:03<00:00,  1.82it/s]\n",
      "                                               \r"
     ]
    },
    {
     "name": "stdout",
     "output_type": "stream",
     "text": [
      "{'loss': 10.7345, 'learning_rate': 0.00017, 'epoch': 4.33}\n"
     ]
    },
    {
     "name": "stderr",
     "output_type": "stream",
     "text": [
      "                                               \r"
     ]
    },
    {
     "name": "stdout",
     "output_type": "stream",
     "text": [
      "{'loss': 10.7954, 'learning_rate': 0.00016, 'epoch': 4.67}\n"
     ]
    },
    {
     "name": "stderr",
     "output_type": "stream",
     "text": [
      "                                               \r"
     ]
    },
    {
     "name": "stdout",
     "output_type": "stream",
     "text": [
      "{'loss': 10.0947, 'learning_rate': 0.00015000000000000001, 'epoch': 5.0}\n"
     ]
    },
    {
     "name": "stderr",
     "output_type": "stream",
     "text": [
      " 50%|█████     | 15/30 [02:30<05:03, 20.25s/it]\n",
      "  0%|          | 0/3 [00:00<?, ?it/s]\n",
      " 67%|██████▋   | 2/3 [00:11<00:05,  5.59s/it]\n",
      "                                               \n",
      "                                             \r"
     ]
    },
    {
     "name": "stdout",
     "output_type": "stream",
     "text": [
      "{'eval_loss': 9.410979270935059, 'eval_runtime': 40.0241, 'eval_samples_per_second': 0.075, 'eval_steps_per_second': 0.075, 'epoch': 5.0}\n"
     ]
    },
    {
     "name": "stderr",
     "output_type": "stream",
     "text": [
      " 50%|█████     | 15/30 [03:10<05:03, 20.25s/it]\n",
      "100%|██████████| 3/3 [00:39<00:00,  7.71s/it]\n",
      "                                               \r"
     ]
    },
    {
     "name": "stdout",
     "output_type": "stream",
     "text": [
      "{'loss': 9.654, 'learning_rate': 0.00014, 'epoch': 5.33}\n"
     ]
    },
    {
     "name": "stderr",
     "output_type": "stream",
     "text": [
      "                                               \r"
     ]
    },
    {
     "name": "stdout",
     "output_type": "stream",
     "text": [
      "{'loss': 8.8581, 'learning_rate': 0.00014, 'epoch': 5.67}\n"
     ]
    },
    {
     "name": "stderr",
     "output_type": "stream",
     "text": [
      "                                               \r"
     ]
    },
    {
     "name": "stdout",
     "output_type": "stream",
     "text": [
      "{'loss': 8.7478, 'learning_rate': 0.00013000000000000002, 'epoch': 6.0}\n"
     ]
    },
    {
     "name": "stderr",
     "output_type": "stream",
     "text": [
      " 60%|██████    | 18/30 [04:33<05:53, 29.43s/it]\n",
      "  0%|          | 0/3 [00:00<?, ?it/s]\n",
      " 67%|██████▋   | 2/3 [00:07<00:03,  3.81s/it]\n",
      "                                               \n",
      "                                             \r"
     ]
    },
    {
     "name": "stdout",
     "output_type": "stream",
     "text": [
      "{'eval_loss': 8.475296020507812, 'eval_runtime': 29.1612, 'eval_samples_per_second': 0.103, 'eval_steps_per_second': 0.103, 'epoch': 6.0}\n"
     ]
    },
    {
     "name": "stderr",
     "output_type": "stream",
     "text": [
      " 60%|██████    | 18/30 [05:02<05:53, 29.43s/it]\n",
      "100%|██████████| 3/3 [00:28<00:00,  5.46s/it]\n",
      "                                               \r"
     ]
    },
    {
     "name": "stdout",
     "output_type": "stream",
     "text": [
      "{'loss': 8.4006, 'learning_rate': 0.00012, 'epoch': 6.33}\n"
     ]
    },
    {
     "name": "stderr",
     "output_type": "stream",
     "text": [
      "                                               \r"
     ]
    },
    {
     "name": "stdout",
     "output_type": "stream",
     "text": [
      "{'loss': 7.9889, 'learning_rate': 0.00011000000000000002, 'epoch': 6.67}\n"
     ]
    },
    {
     "name": "stderr",
     "output_type": "stream",
     "text": [
      "                                               \r"
     ]
    },
    {
     "name": "stdout",
     "output_type": "stream",
     "text": [
      "{'loss': 7.9014, 'learning_rate': 0.0001, 'epoch': 7.0}\n"
     ]
    },
    {
     "name": "stderr",
     "output_type": "stream",
     "text": [
      " 70%|███████   | 21/30 [06:14<04:36, 30.71s/it]\n",
      "  0%|          | 0/3 [00:00<?, ?it/s]\n",
      " 67%|██████▋   | 2/3 [00:07<00:03,  3.79s/it]\n",
      "                                               \n",
      "                                             \r"
     ]
    },
    {
     "name": "stdout",
     "output_type": "stream",
     "text": [
      "{'eval_loss': 7.3786940574646, 'eval_runtime': 29.1281, 'eval_samples_per_second': 0.103, 'eval_steps_per_second': 0.103, 'epoch': 7.0}\n"
     ]
    },
    {
     "name": "stderr",
     "output_type": "stream",
     "text": [
      " 70%|███████   | 21/30 [06:43<04:36, 30.71s/it]\n",
      "100%|██████████| 3/3 [00:28<00:00,  5.45s/it]\n",
      "                                               \r"
     ]
    },
    {
     "name": "stdout",
     "output_type": "stream",
     "text": [
      "{'loss': 7.5275, 'learning_rate': 9e-05, 'epoch': 7.33}\n"
     ]
    },
    {
     "name": "stderr",
     "output_type": "stream",
     "text": [
      "                                               \r"
     ]
    },
    {
     "name": "stdout",
     "output_type": "stream",
     "text": [
      "{'loss': 6.9847, 'learning_rate': 8e-05, 'epoch': 7.67}\n"
     ]
    },
    {
     "name": "stderr",
     "output_type": "stream",
     "text": [
      "                                               \r"
     ]
    },
    {
     "name": "stdout",
     "output_type": "stream",
     "text": [
      "{'loss': 6.824, 'learning_rate': 7e-05, 'epoch': 8.0}\n"
     ]
    },
    {
     "name": "stderr",
     "output_type": "stream",
     "text": [
      " 80%|████████  | 24/30 [07:51<02:53, 28.96s/it]\n",
      "  0%|          | 0/3 [00:00<?, ?it/s]\n",
      " 67%|██████▋   | 2/3 [00:06<00:03,  3.32s/it]\n",
      "                                               \n",
      "                                             \r"
     ]
    },
    {
     "name": "stdout",
     "output_type": "stream",
     "text": [
      "{'eval_loss': 6.589598178863525, 'eval_runtime': 24.4992, 'eval_samples_per_second': 0.122, 'eval_steps_per_second': 0.122, 'epoch': 8.0}\n"
     ]
    },
    {
     "name": "stderr",
     "output_type": "stream",
     "text": [
      " 80%|████████  | 24/30 [08:16<02:53, 28.96s/it]\n",
      "100%|██████████| 3/3 [00:24<00:00,  4.78s/it]\n",
      "                                               \r"
     ]
    },
    {
     "name": "stdout",
     "output_type": "stream",
     "text": [
      "{'loss': 6.555, 'learning_rate': 6e-05, 'epoch': 8.33}\n"
     ]
    },
    {
     "name": "stderr",
     "output_type": "stream",
     "text": [
      "                                               \r"
     ]
    },
    {
     "name": "stdout",
     "output_type": "stream",
     "text": [
      "{'loss': 6.4221, 'learning_rate': 5e-05, 'epoch': 8.67}\n"
     ]
    },
    {
     "name": "stderr",
     "output_type": "stream",
     "text": [
      "                                               \r"
     ]
    },
    {
     "name": "stdout",
     "output_type": "stream",
     "text": [
      "{'loss': 6.351, 'learning_rate': 4e-05, 'epoch': 9.0}\n"
     ]
    },
    {
     "name": "stderr",
     "output_type": "stream",
     "text": [
      " 90%|█████████ | 27/30 [09:23<01:25, 28.55s/it]\n",
      "  0%|          | 0/3 [00:00<?, ?it/s]\n",
      " 67%|██████▋   | 2/3 [00:06<00:03,  3.39s/it]\n",
      "                                               \n",
      "                                             \r"
     ]
    },
    {
     "name": "stdout",
     "output_type": "stream",
     "text": [
      "{'eval_loss': 6.250532150268555, 'eval_runtime': 25.3818, 'eval_samples_per_second': 0.118, 'eval_steps_per_second': 0.118, 'epoch': 9.0}\n"
     ]
    },
    {
     "name": "stderr",
     "output_type": "stream",
     "text": [
      " 90%|█████████ | 27/30 [09:48<01:25, 28.55s/it]\n",
      "100%|██████████| 3/3 [00:25<00:00,  4.84s/it]\n",
      "                                               \r"
     ]
    },
    {
     "name": "stdout",
     "output_type": "stream",
     "text": [
      "{'loss': 6.298, 'learning_rate': 3e-05, 'epoch': 9.33}\n"
     ]
    },
    {
     "name": "stderr",
     "output_type": "stream",
     "text": [
      "                                               \r"
     ]
    },
    {
     "name": "stdout",
     "output_type": "stream",
     "text": [
      "{'loss': 6.2138, 'learning_rate': 2e-05, 'epoch': 9.67}\n"
     ]
    },
    {
     "name": "stderr",
     "output_type": "stream",
     "text": [
      "                                               \r"
     ]
    },
    {
     "name": "stdout",
     "output_type": "stream",
     "text": [
      "{'loss': 6.1457, 'learning_rate': 1e-05, 'epoch': 10.0}\n"
     ]
    },
    {
     "name": "stderr",
     "output_type": "stream",
     "text": [
      "100%|██████████| 30/30 [10:49<00:00, 26.32s/it]\n",
      "  0%|          | 0/3 [00:00<?, ?it/s]\n",
      " 67%|██████▋   | 2/3 [00:06<00:03,  3.35s/it]\n",
      "                                               \n",
      "                                             \r"
     ]
    },
    {
     "name": "stdout",
     "output_type": "stream",
     "text": [
      "{'eval_loss': 6.17491340637207, 'eval_runtime': 25.4357, 'eval_samples_per_second': 0.118, 'eval_steps_per_second': 0.118, 'epoch': 10.0}\n"
     ]
    },
    {
     "name": "stderr",
     "output_type": "stream",
     "text": [
      "100%|██████████| 30/30 [11:14<00:00, 26.32s/it]\n",
      "100%|██████████| 3/3 [00:25<00:00,  4.75s/it]\n",
      "                                               \r"
     ]
    },
    {
     "name": "stdout",
     "output_type": "stream",
     "text": [
      "{'train_runtime': 674.6923, 'train_samples_per_second': 0.044, 'train_steps_per_second': 0.044, 'train_loss': 10.058381668726604, 'epoch': 10.0}\n"
     ]
    },
    {
     "name": "stderr",
     "output_type": "stream",
     "text": [
      "100%|██████████| 30/30 [11:14<00:00, 22.49s/it]\n"
     ]
    },
    {
     "data": {
      "text/plain": [
       "TrainOutput(global_step=30, training_loss=10.058381668726604, metrics={'train_runtime': 674.6923, 'train_samples_per_second': 0.044, 'train_steps_per_second': 0.044, 'train_loss': 10.058381668726604, 'epoch': 10.0})"
      ]
     },
     "execution_count": 19,
     "metadata": {},
     "output_type": "execute_result"
    }
   ],
   "source": [
    "trainer.train()"
   ]
  },
  {
   "cell_type": "code",
   "execution_count": 20,
   "metadata": {},
   "outputs": [
    {
     "name": "stderr",
     "output_type": "stream",
     "text": [
      "100%|██████████| 3/3 [00:25<00:00,  8.58s/it]\n"
     ]
    },
    {
     "data": {
      "text/plain": [
       "{'eval_loss': 6.17491340637207,\n",
       " 'eval_runtime': 26.0902,\n",
       " 'eval_samples_per_second': 0.115,\n",
       " 'eval_steps_per_second': 0.115,\n",
       " 'epoch': 10.0}"
      ]
     },
     "execution_count": 20,
     "metadata": {},
     "output_type": "execute_result"
    }
   ],
   "source": [
    "trainer.evaluate()"
   ]
  },
  {
   "cell_type": "code",
   "execution_count": 21,
   "metadata": {},
   "outputs": [
    {
     "data": {
      "text/plain": [
       "[26.089653, 23.530462, 32.777637]"
      ]
     },
     "execution_count": 21,
     "metadata": {},
     "output_type": "execute_result"
    }
   ],
   "source": [
    "perplexities_tuned_lora = [\n",
    "    model_perplexity(lora_model,\n",
    "                     tokenizer(text)['input_ids'])\n",
    "    for text in TEXTS\n",
    "]\n",
    "perplexities_tuned_lora"
   ]
  },
  {
   "cell_type": "markdown",
   "metadata": {},
   "source": [
    "## Results"
   ]
  },
  {
   "cell_type": "markdown",
   "metadata": {},
   "source": [
    "So:\n",
    "- initial model perplexities on this texts were: \n",
    "    `[6.494379, 5.0919175, 4.490609]`\n",
    "- perplexities after applying LoRA adapters, but before finetuning (basically the same model with some noise?)\n",
    "    `[6.494379, 5.0919175, 4.490609]`\n",
    "- loss of LoRA-applied model before finetuning:\n",
    "    ```\n",
    "    {'eval_loss': 13.802539825439453,\n",
    "    'eval_runtime': 2.9367,\n",
    "    'eval_samples_per_second': 1.022,\n",
    "    'eval_steps_per_second': 1.022}\n",
    "    ```\n",
    "- loss of LoRA model after trying to overfit for this texts:\n",
    "    ```\n",
    "    {'eval_loss': 6.17491340637207,\n",
    "    'eval_runtime': 26.0902,\n",
    "    'eval_samples_per_second': 0.115,\n",
    "    'eval_steps_per_second': 0.115,\n",
    "    'epoch': 10.0}\n",
    "    ```\n",
    "- perplexities\n",
    "    ```\n",
    "    [26.089653, 23.530462, 32.777637]\n",
    "    ```"
   ]
  }
 ],
 "metadata": {
  "kernelspec": {
   "display_name": "llama",
   "language": "python",
   "name": "python3"
  },
  "language_info": {
   "codemirror_mode": {
    "name": "ipython",
    "version": 3
   },
   "file_extension": ".py",
   "mimetype": "text/x-python",
   "name": "python",
   "nbconvert_exporter": "python",
   "pygments_lexer": "ipython3",
   "version": "3.11.4"
  },
  "orig_nbformat": 4
 },
 "nbformat": 4,
 "nbformat_minor": 2
}
