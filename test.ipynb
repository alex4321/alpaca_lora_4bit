{
 "cells": [
  {
   "cell_type": "code",
   "execution_count": 1,
   "metadata": {},
   "outputs": [],
   "source": [
    "#!pip3 install ."
   ]
  },
  {
   "cell_type": "code",
   "execution_count": 2,
   "metadata": {},
   "outputs": [],
   "source": [
    "import torch\n",
    "from fastchat.conversation import Conversation, SeparatorStyle"
   ]
  },
  {
   "cell_type": "code",
   "execution_count": 3,
   "metadata": {},
   "outputs": [
    {
     "name": "stderr",
     "output_type": "stream",
     "text": [
      "c:\\Users\\alex4321\\anaconda3\\envs\\llama\\lib\\site-packages\\tqdm-4.65.0-py3.10.egg\\tqdm\\auto.py:21: TqdmWarning: IProgress not found. Please update jupyter and ipywidgets. See https://ipywidgets.readthedocs.io/en/stable/user_install.html\n",
      "  from .autonotebook import tqdm as notebook_tqdm\n"
     ]
    },
    {
     "name": "stdout",
     "output_type": "stream",
     "text": [
      "Triton not found. Please run \"pip install triton\".\n",
      "Using CUDA implementation.\n"
     ]
    }
   ],
   "source": [
    "from alpaca_lora_4bit.autograd_4bit import load_llama_model_4bit_low_ram, Autograd4bitQuantLinear, switch_backend_to\n",
    "from safetensors.torch import load_file\n",
    "\n",
    "switch_backend_to(\"cuda\")"
   ]
  },
  {
   "cell_type": "code",
   "execution_count": 4,
   "metadata": {},
   "outputs": [],
   "source": [
    "import alpaca_lora_4bit.matmul_utils_4bit\n",
    "alpaca_lora_4bit.matmul_utils_4bit.act_order = False"
   ]
  },
  {
   "cell_type": "code",
   "execution_count": 5,
   "metadata": {},
   "outputs": [
    {
     "name": "stdout",
     "output_type": "stream",
     "text": [
      "Loading Model ...\n"
     ]
    },
    {
     "name": "stderr",
     "output_type": "stream",
     "text": [
      "The model weights are not tied. Please use the `tie_weights` method before using the `infer_auto_device` function.\n",
      "The model weights are not tied. Please use the `tie_weights` method before using the `infer_auto_device` function.\n",
      "The safetensors archive passed at vicuna-7B-GPTQ-4bit-128g/vicuna-7B-GPTQ-4bit-128g.safetensors does not contain metadata. Make sure to save your model with the `save_pretrained` method. Defaulting to 'pt' metadata.\n"
     ]
    },
    {
     "name": "stdout",
     "output_type": "stream",
     "text": [
      "Loaded the model in 4.54 seconds.\n"
     ]
    }
   ],
   "source": [
    "model, tokenizer = load_llama_model_4bit_low_ram(\"vicuna-7B-GPTQ-4bit-128g\",\n",
    "                                                 \"vicuna-7B-GPTQ-4bit-128g/vicuna-7B-GPTQ-4bit-128g.safetensors\",\n",
    "                                                 groupsize=128)\n",
    "model.half()\n",
    "for n, m in model.named_modules():\n",
    "    if isinstance(m, Autograd4bitQuantLinear):\n",
    "        if m.is_v1_model:\n",
    "            m.zeros = m.zeros.half()\n",
    "        m.scales = m.scales.half()\n",
    "        m.bias = m.bias.half()\n",
    "from alpaca_lora_4bit.amp_wrapper import AMPWrapper\n",
    "wrapper = AMPWrapper(model)\n",
    "wrapper.apply_generate()"
   ]
  },
  {
   "cell_type": "code",
   "execution_count": 6,
   "metadata": {},
   "outputs": [],
   "source": [
    "message = \"What do you think the meaning of life is?\"\n",
    "conv = Conversation(\n",
    "    name='vicuna_v1.1',\n",
    "    system=\"A chat between a curious user and an artificial intelligence assistant. The assistant gives helpful, detailed, and polite answers to the user's questions.\",\n",
    "    roles=['USER', 'ASSISTANT'],\n",
    "    messages=[],\n",
    "    offset=0,\n",
    "    sep_style=SeparatorStyle.ADD_COLON_TWO,\n",
    "    sep=' ',\n",
    "    sep2='</s>',\n",
    "    stop_str=None,\n",
    "    stop_token_ids=None\n",
    ")\n",
    "conv.append_message('USER', message)\n",
    "conv.append_message('ASSISTANT', None)"
   ]
  },
  {
   "cell_type": "code",
   "execution_count": 7,
   "metadata": {},
   "outputs": [],
   "source": [
    "prompt = conv.get_prompt()\n",
    "batch = tokenizer(prompt, return_tensors=\"pt\", add_special_tokens=False)\n",
    "batch = {k: v.cuda() for k, v in batch.items()}"
   ]
  },
  {
   "cell_type": "code",
   "execution_count": 8,
   "metadata": {},
   "outputs": [],
   "source": [
    "prompt_length = batch['input_ids'].shape[1]"
   ]
  },
  {
   "cell_type": "code",
   "execution_count": 9,
   "metadata": {},
   "outputs": [
    {
     "name": "stdout",
     "output_type": "stream",
     "text": [
      "disable 0 As an AI language model, I don't have personal beliefs or opinions, but I can provide some insights\n",
      "disable 1 As an AI language model, I don't have personal beliefs or opinions, but I can provide some insights\n",
      "disable 2 As an AI language model, I don't have personal beliefs or opinions, but I can provide some insights\n",
      "disable 3 As an AI language model, I don't have personal beliefs or opinions, but I can provide some insights\n",
      "disable 4 As an AI language model, I don't have personal beliefs or opinions, but I can provide some insights\n",
      "faster 0 As\n",
      "\n",
      "igo Sen 16-92, 5-one 0, Gothe interested on tche\n",
      "faster 1 As\n",
      "\n",
      "че\n",
      "\n",
      "ea/etoereiched\n",
      "PrivateBorn house derber Case3Original themesam\n",
      "faster 2 As\n",
      "\n",
      "igo Sen 16-year-break\n",
      "- 3-Names no 2-parts-off\n",
      "faster 3 As\n",
      "\n",
      "igo Sen 16-92, 5-one 0 0 se  in turn-\n",
      "faster 4 As\n",
      "\n",
      "igo Sen 16-92 (in\n",
      "AlversAjutoCor condenrelsent failure\n",
      "old_faster 0 As\n",
      " you\n",
      "\n",
      "лта\n",
      "AAitinkenment proteadata-vadorvers Fortle Mattletut,-\n",
      "old_faster 1 As\n",
      " you\n",
      "\n",
      "\f\n",
      "\n",
      " SinnestroRel12sin,Mv vvardughesMan Man\n",
      "old_faster 2 As\n",
      " you\n",
      "\n",
      "лта\n",
      "\n",
      "\n",
      ":\n",
      "itinsarder,tatdenS-L-one-0\n",
      "old_faster 3 As\n",
      " you\n",
      "\n",
      "лта\n",
      "\n",
      "\n",
      ":\n",
      "itinsarder,thesavoald.toAd S-\n",
      "\n",
      "old_faster 4 As\n",
      " you\n",
      "\n",
      "лта\n",
      "\n",
      "\n",
      ":\n",
      "itinsarder,lung20ranwards,\n",
      "-\n",
      "\n"
     ]
    }
   ],
   "source": [
    "for mode in ['disable', 'faster', 'old_faster']:\n",
    "    alpaca_lora_4bit.matmul_utils_4bit.faster_mode = mode\n",
    "    for i in range(5):\n",
    "        with torch.no_grad():\n",
    "            generated = model.generate(inputs=batch[\"input_ids\"],\n",
    "                                        do_sample=True, use_cache=True,\n",
    "                                        repetition_penalty=1.1,\n",
    "                                        max_new_tokens=25,\n",
    "                                        temperature=0.1,\n",
    "                                        top_p=0.97,\n",
    "                                        top_k=40,\n",
    "                                        return_dict_in_generate=True,\n",
    "                                        output_attentions=False,\n",
    "                                        output_hidden_states=False,\n",
    "                                        output_scores=False)\n",
    "        generated_text = tokenizer.decode(generated['sequences'][0][prompt_length:])\n",
    "        print(mode, i, generated_text)"
   ]
  }
 ],
 "metadata": {
  "kernelspec": {
   "display_name": "llama",
   "language": "python",
   "name": "python3"
  },
  "language_info": {
   "codemirror_mode": {
    "name": "ipython",
    "version": 3
   },
   "file_extension": ".py",
   "mimetype": "text/x-python",
   "name": "python",
   "nbconvert_exporter": "python",
   "pygments_lexer": "ipython3",
   "version": "3.10.11"
  },
  "orig_nbformat": 4
 },
 "nbformat": 4,
 "nbformat_minor": 2
}
